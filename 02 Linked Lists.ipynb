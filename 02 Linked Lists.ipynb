{
 "cells": [
  {
   "cell_type": "markdown",
   "metadata": {},
   "source": [
    "# Linked List\n",
    "- 연결 리스트는 데이터 집합을 저장하기 위해 사용되는 데이터 구조이다.\n",
    "- 연속되는 항목들이 포인터로 연결된다.\n",
    "- 마지막 항목은 NULL을 포인트한다.\n",
    "- 프로그램이 수행되는 동안 크기가 커지거나 작아질 수 있다.\n",
    "- 시스템 메모리가 허용하는 한 필요한 만큼 길어질 수 있다.\n",
    "- 메모리 공간을 낭비하지 않는다."
   ]
  },
  {
   "cell_type": "markdown",
   "metadata": {},
   "source": [
    "**Array vs. Linked List**\n",
    "#### 배열의 장점\n",
    "- 간단하고 사용하기 쉬움\n",
    "- 항목으로의 접근이 더 빠르다(일정한 시간이 걸리는 접근) <br/>\n",
    "\n",
    "#### 배열의 단점\n",
    "- 고정된 크기: 배열의 크기는 정적 (사용하기 전 배열의 크기를 지정해야하고 실행시간에 변경할 수 없음)\n",
    "- dynamic과 static의 구분은 실행시간에 변하는 유무\n",
    "- 복잡한 위치 기반의 삽입: 특정 위치에 항목을 삽입하려면 기존의 항목들을 이동시켜야 함"
   ]
  },
  {
   "cell_type": "code",
   "execution_count": null,
   "metadata": {},
   "outputs": [],
   "source": [
    "``"
   ]
  },
  {
   "cell_type": "code",
   "execution_count": null,
   "metadata": {},
   "outputs": [],
   "source": []
  },
  {
   "cell_type": "code",
   "execution_count": null,
   "metadata": {},
   "outputs": [],
   "source": []
  },
  {
   "cell_type": "code",
   "execution_count": null,
   "metadata": {},
   "outputs": [],
   "source": []
  },
  {
   "cell_type": "code",
   "execution_count": null,
   "metadata": {},
   "outputs": [],
   "source": []
  },
  {
   "cell_type": "code",
   "execution_count": null,
   "metadata": {},
   "outputs": [],
   "source": []
  },
  {
   "cell_type": "code",
   "execution_count": null,
   "metadata": {},
   "outputs": [],
   "source": []
  },
  {
   "cell_type": "code",
   "execution_count": null,
   "metadata": {},
   "outputs": [],
   "source": []
  },
  {
   "cell_type": "code",
   "execution_count": null,
   "metadata": {},
   "outputs": [],
   "source": []
  }
 ],
 "metadata": {
  "kernelspec": {
   "display_name": "Python 3",
   "language": "python",
   "name": "python3"
  },
  "language_info": {
   "codemirror_mode": {
    "name": "ipython",
    "version": 3
   },
   "file_extension": ".py",
   "mimetype": "text/x-python",
   "name": "python",
   "nbconvert_exporter": "python",
   "pygments_lexer": "ipython3",
   "version": "3.6.9"
  }
 },
 "nbformat": 4,
 "nbformat_minor": 2
}
