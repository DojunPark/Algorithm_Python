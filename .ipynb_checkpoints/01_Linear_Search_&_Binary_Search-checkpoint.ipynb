{
 "cells": [
  {
   "cell_type": "markdown",
   "metadata": {},
   "source": [
    "# convert ipynb to py"
   ]
  },
  {
   "cell_type": "code",
   "execution_count": 5,
   "metadata": {},
   "outputs": [
    {
     "name": "stderr",
     "output_type": "stream",
     "text": [
      "[NbConvertApp] Converting notebook example.ipynb to script\n",
      "[NbConvertApp] Writing 276 bytes to example.py\n"
     ]
    }
   ],
   "source": [
    "!jupyter nbconvert --to script example.ipynb"
   ]
  },
  {
   "cell_type": "markdown",
   "metadata": {},
   "source": [
    "# Explanation of linear and binary search\n",
    "https://nittaku.tistory.com/487?category=782717 <br/>\n",
    "https://www.youtube.com/watch?v=rBRu9T8v37w&list=PL1eLKSeW1Bajij7URN1uWCW--i0lL8w3H&index=2"
   ]
  },
  {
   "cell_type": "markdown",
   "metadata": {},
   "source": [
    "# Binary search exercise\n",
    "https://programmers.co.kr/learn/courses/30/parts/12486"
   ]
  },
  {
   "cell_type": "markdown",
   "metadata": {},
   "source": [
    "# Linear Search vs. Binary search\n",
    "For a list that contains `n` elements, <br/>\n",
    "maximum iteration number of linear search is `n` times <br/>\n",
    "and maximum iteration number of binary search is m times of `2^m = n`"
   ]
  },
  {
   "cell_type": "markdown",
   "metadata": {},
   "source": [
    "# Linear Search\n",
    "#### Use when?\n",
    "- The required condition for binary search is a sorted list\n",
    "- If the given list isn't sorted, then linear search is only one possible way."
   ]
  },
  {
   "cell_type": "code",
   "execution_count": 10,
   "metadata": {},
   "outputs": [],
   "source": [
    "# a function that returns the index of element from the list\n",
    "def linear_search(list, element):\n",
    "    for i in range(len(list)):\n",
    "        if list[i] == element:\n",
    "            return i\n",
    "    return None"
   ]
  },
  {
   "cell_type": "code",
   "execution_count": 11,
   "metadata": {},
   "outputs": [
    {
     "name": "stdout",
     "output_type": "stream",
     "text": [
      "4\n",
      "None\n"
     ]
    }
   ],
   "source": [
    "ls_sample = [1, 5, 68, 34, 13, 6, 23, 79, 72, 41]\n",
    "\n",
    "print(linear_search(ls_sample, 13))\n",
    "print(linear_search(ls_sample, 14))"
   ]
  },
  {
   "cell_type": "markdown",
   "metadata": {},
   "source": [
    "# Binary search"
   ]
  },
  {
   "cell_type": "markdown",
   "metadata": {},
   "source": [
    "**Requirement**\n",
    "\n",
    "The given list must be sorted...!"
   ]
  },
  {
   "cell_type": "code",
   "execution_count": 12,
   "metadata": {},
   "outputs": [],
   "source": [
    "def binary_search(list, element):\n",
    "    # initial values\n",
    "    start_idx = 0\n",
    "    end_idx = len(list) - 1\n",
    "    \n",
    "    while start_idx <= end_idx:\n",
    "        mid_idx = (start_idx + end_idx) // 2\n",
    "        \n",
    "        if element == list[mid_idx]:\n",
    "            return mid_idx\n",
    "        \n",
    "        #if smaller\n",
    "        elif element < list[mid_idx]:\n",
    "            end_idx = mid_idx - 1\n",
    "            \n",
    "        #if bigger\n",
    "        else:\n",
    "            start_idx = mid_idx + 1\n",
    "            \n",
    "    # if there isn't\n",
    "    return None"
   ]
  },
  {
   "cell_type": "code",
   "execution_count": 13,
   "metadata": {},
   "outputs": [
    {
     "name": "stdout",
     "output_type": "stream",
     "text": [
      "4\n",
      "None\n"
     ]
    }
   ],
   "source": [
    "ls_sample = [1, 5, 68, 34, 13, 6, 23, 79, 72, 41]\n",
    "\n",
    "print(binary_search(ls_sample, 13))\n",
    "print(binary_search(ls_sample, 14))"
   ]
  },
  {
   "cell_type": "markdown",
   "metadata": {},
   "source": [
    "# Comparison of linear search to binary search"
   ]
  },
  {
   "cell_type": "code",
   "execution_count": 58,
   "metadata": {},
   "outputs": [
    {
     "name": "stdout",
     "output_type": "stream",
     "text": [
      "5.5025\n",
      "5.5265\n",
      "5.4988\n",
      "5.4929\n",
      "5.5403\n",
      "5.5188\n",
      "5.4559\n",
      "5.4809\n",
      "5.4864\n",
      "5.4874\n"
     ]
    }
   ],
   "source": [
    "#linear search\n",
    "\n",
    "import random\n",
    "\n",
    "ls_numbers = [1, 5, 8, 13, 27, 45, 63, 81, 99, 101]\n",
    "\n",
    "# iterate 10 times\n",
    "for _ in range(10):\n",
    "    count = 0\n",
    "    \n",
    "    # iterate 10000 times\n",
    "    for _ in range(10000):\n",
    "        V = random.randint(0, len(ls_numbers)-1)\n",
    "        for i in range(len(ls_numbers)):\n",
    "            count += 1\n",
    "            if ls_numbers[V] == ls_numbers[i]:\n",
    "                break\n",
    "    print(count / 10000)"
   ]
  },
  {
   "cell_type": "code",
   "execution_count": 59,
   "metadata": {},
   "outputs": [
    {
     "name": "stdout",
     "output_type": "stream",
     "text": [
      "2.8919\n",
      "2.8976\n",
      "2.888\n",
      "2.9048\n",
      "2.8983\n",
      "2.899\n",
      "2.8959\n",
      "2.9006\n",
      "2.9009\n",
      "2.913\n"
     ]
    }
   ],
   "source": [
    "#binary search\n",
    "\n",
    "import random\n",
    "\n",
    "ls_numbers = [1, 5, 8, 13, 27, 45, 63, 81, 99, 101]\n",
    "\n",
    "# iterate 10 times\n",
    "for _ in range(10):\n",
    "    count = 0\n",
    "    \n",
    "    #iterate 10000 times\n",
    "    for _ in range(10000):\n",
    "        start = 0\n",
    "        end = len(ls_numbers) - 1\n",
    "        key = (start + end) // 2\n",
    "        V =  random.randint(start, end)\n",
    "        while True:\n",
    "            count += 1\n",
    "            if ls_numbers[key] == ls_numbers[V] or start == end:\n",
    "                break\n",
    "            elif ls_numbers[V] < ls_numbers[key]:\n",
    "                end = key - 1\n",
    "                key = (start + end) // 2\n",
    "            else:\n",
    "                start = key + 1\n",
    "                key = (start + end) // 2\n",
    "    \n",
    "    #print average count\n",
    "    print(count / 10000)"
   ]
  },
  {
   "cell_type": "code",
   "execution_count": null,
   "metadata": {},
   "outputs": [],
   "source": []
  },
  {
   "cell_type": "code",
   "execution_count": null,
   "metadata": {},
   "outputs": [],
   "source": []
  },
  {
   "cell_type": "code",
   "execution_count": null,
   "metadata": {},
   "outputs": [],
   "source": []
  },
  {
   "cell_type": "code",
   "execution_count": null,
   "metadata": {},
   "outputs": [],
   "source": []
  },
  {
   "cell_type": "code",
   "execution_count": null,
   "metadata": {},
   "outputs": [],
   "source": []
  }
 ],
 "metadata": {
  "kernelspec": {
   "display_name": "Python 3",
   "language": "python",
   "name": "python3"
  },
  "language_info": {
   "codemirror_mode": {
    "name": "ipython",
    "version": 3
   },
   "file_extension": ".py",
   "mimetype": "text/x-python",
   "name": "python",
   "nbconvert_exporter": "python",
   "pygments_lexer": "ipython3",
   "version": "3.6.9"
  }
 },
 "nbformat": 4,
 "nbformat_minor": 2
}
